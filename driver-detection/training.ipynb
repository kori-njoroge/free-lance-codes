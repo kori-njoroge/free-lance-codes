{
 "cells": [
  {
   "cell_type": "code",
   "execution_count": 1,
   "id": "59d6527c",
   "metadata": {},
   "outputs": [
    {
     "name": "stderr",
     "output_type": "stream",
     "text": [
      "2023-04-04 10:01:17.924101: I tensorflow/tsl/cuda/cudart_stub.cc:28] Could not find cuda drivers on your machine, GPU will not be used.\n",
      "2023-04-04 10:01:17.998091: I tensorflow/tsl/cuda/cudart_stub.cc:28] Could not find cuda drivers on your machine, GPU will not be used.\n",
      "2023-04-04 10:01:17.999785: I tensorflow/core/platform/cpu_feature_guard.cc:182] This TensorFlow binary is optimized to use available CPU instructions in performance-critical operations.\n",
      "To enable the following instructions: AVX2 FMA, in other operations, rebuild TensorFlow with the appropriate compiler flags.\n",
      "2023-04-04 10:01:19.399789: W tensorflow/compiler/tf2tensorrt/utils/py_utils.cc:38] TF-TRT Warning: Could not find TensorRT\n"
     ]
    }
   ],
   "source": [
    "import tensorflow\n",
    "import tensorflow as tf\n",
    "from tensorflow import keras\n",
    "from keras.layers import Input,Lambda,Dense,Flatten\n",
    "from keras.models import Model\n",
    "from keras.applications.vgg16 import VGG16,preprocess_input\n",
    "from keras.preprocessing import image\n",
    "from keras.preprocessing.image import ImageDataGenerator\n",
    "from keras.models import Sequential\n",
    "from tensorflow.keras.optimizers.legacy import Adam\n",
    "import numpy\n",
    "from glob import glob\n",
    "import matplotlib.pyplot as pyplot\n",
    "from keras.models import load_model\n",
    "from sklearn.metrics import confusion_matrix,classification_report\n",
    "import seaborn\n",
    "import os\n",
    "%matplotlib inline\n",
    "# changed from qt to inline"
   ]
  },
  {
   "cell_type": "code",
   "execution_count": 2,
   "id": "83260645",
   "metadata": {},
   "outputs": [
    {
     "name": "stdout",
     "output_type": "stream",
     "text": [
      "0 -->  closed\n",
      "1 -->  no_yawn\n",
      "2 -->  open\n",
      "3 -->  yawn\n"
     ]
    }
   ],
   "source": [
    "# classes_list=['Facial acne', 'Melanoma', 'Psoriasis', 'Ringworm', 'Skin Burn']\n",
    "classes_list=['closed', 'no_yawn', 'open', 'yawn']\n",
    "def printClassList():\n",
    "    for class_name in classes_list:\n",
    "        print(f\"{classes_list.index(class_name)} -->  {class_name}\")\n",
    "printClassList()   \n",
    "def getClassvalue(index):\n",
    "    print(classes_list[index])"
   ]
  },
  {
   "cell_type": "code",
   "execution_count": 3,
   "id": "425286c8",
   "metadata": {},
   "outputs": [],
   "source": [
    "IMAGE_SIZE=[180,180]\n",
    "training_path=r'/home/corey/Documents/ML/train'\n",
    "testing_path=r'/home/corey/Documents/ML/test'"
   ]
  },
  {
   "cell_type": "code",
   "execution_count": 4,
   "id": "afbf92bc",
   "metadata": {},
   "outputs": [],
   "source": [
    "VGG16_Architecture=VGG16(input_shape=IMAGE_SIZE+[3],weights='imagenet',include_top=False)"
   ]
  },
  {
   "cell_type": "code",
   "execution_count": 5,
   "id": "5fd46554",
   "metadata": {},
   "outputs": [
    {
     "name": "stdout",
     "output_type": "stream",
     "text": [
      "Model: \"vgg16\"\n",
      "_________________________________________________________________\n",
      " Layer (type)                Output Shape              Param #   \n",
      "=================================================================\n",
      " input_1 (InputLayer)        [(None, 180, 180, 3)]     0         \n",
      "                                                                 \n",
      " block1_conv1 (Conv2D)       (None, 180, 180, 64)      1792      \n",
      "                                                                 \n",
      " block1_conv2 (Conv2D)       (None, 180, 180, 64)      36928     \n",
      "                                                                 \n",
      " block1_pool (MaxPooling2D)  (None, 90, 90, 64)        0         \n",
      "                                                                 \n",
      " block2_conv1 (Conv2D)       (None, 90, 90, 128)       73856     \n",
      "                                                                 \n",
      " block2_conv2 (Conv2D)       (None, 90, 90, 128)       147584    \n",
      "                                                                 \n",
      " block2_pool (MaxPooling2D)  (None, 45, 45, 128)       0         \n",
      "                                                                 \n",
      " block3_conv1 (Conv2D)       (None, 45, 45, 256)       295168    \n",
      "                                                                 \n",
      " block3_conv2 (Conv2D)       (None, 45, 45, 256)       590080    \n",
      "                                                                 \n",
      " block3_conv3 (Conv2D)       (None, 45, 45, 256)       590080    \n",
      "                                                                 \n",
      " block3_pool (MaxPooling2D)  (None, 22, 22, 256)       0         \n",
      "                                                                 \n",
      " block4_conv1 (Conv2D)       (None, 22, 22, 512)       1180160   \n",
      "                                                                 \n",
      " block4_conv2 (Conv2D)       (None, 22, 22, 512)       2359808   \n",
      "                                                                 \n",
      " block4_conv3 (Conv2D)       (None, 22, 22, 512)       2359808   \n",
      "                                                                 \n",
      " block4_pool (MaxPooling2D)  (None, 11, 11, 512)       0         \n",
      "                                                                 \n",
      " block5_conv1 (Conv2D)       (None, 11, 11, 512)       2359808   \n",
      "                                                                 \n",
      " block5_conv2 (Conv2D)       (None, 11, 11, 512)       2359808   \n",
      "                                                                 \n",
      " block5_conv3 (Conv2D)       (None, 11, 11, 512)       2359808   \n",
      "                                                                 \n",
      " block5_pool (MaxPooling2D)  (None, 5, 5, 512)         0         \n",
      "                                                                 \n",
      "=================================================================\n",
      "Total params: 14,714,688\n",
      "Trainable params: 14,714,688\n",
      "Non-trainable params: 0\n",
      "_________________________________________________________________\n"
     ]
    }
   ],
   "source": [
    "VGG16_Architecture.summary()"
   ]
  },
  {
   "cell_type": "code",
   "execution_count": 6,
   "id": "6d086ec7",
   "metadata": {},
   "outputs": [
    {
     "name": "stdout",
     "output_type": "stream",
     "text": [
      "<keras.engine.input_layer.InputLayer object at 0x7f46500f7f40>\n",
      "<keras.layers.convolutional.conv2d.Conv2D object at 0x7f45bd710130>\n",
      "<keras.layers.convolutional.conv2d.Conv2D object at 0x7f45bd710880>\n",
      "<keras.layers.pooling.max_pooling2d.MaxPooling2D object at 0x7f45bd7119c0>\n",
      "<keras.layers.convolutional.conv2d.Conv2D object at 0x7f45bd7121a0>\n",
      "<keras.layers.convolutional.conv2d.Conv2D object at 0x7f45bd712bc0>\n",
      "<keras.layers.pooling.max_pooling2d.MaxPooling2D object at 0x7f45bd713cd0>\n",
      "<keras.layers.convolutional.conv2d.Conv2D object at 0x7f45bd713fa0>\n",
      "<keras.layers.convolutional.conv2d.Conv2D object at 0x7f45bd712da0>\n",
      "<keras.layers.convolutional.conv2d.Conv2D object at 0x7f45bd710bb0>\n",
      "<keras.layers.pooling.max_pooling2d.MaxPooling2D object at 0x7f45bd7b9480>\n",
      "<keras.layers.convolutional.conv2d.Conv2D object at 0x7f45bd7124a0>\n",
      "<keras.layers.convolutional.conv2d.Conv2D object at 0x7f45bd7babf0>\n",
      "<keras.layers.convolutional.conv2d.Conv2D object at 0x7f45bd7bb9d0>\n",
      "<keras.layers.pooling.max_pooling2d.MaxPooling2D object at 0x7f45bd7ba9b0>\n",
      "<keras.layers.convolutional.conv2d.Conv2D object at 0x7f45bd7bb7c0>\n",
      "<keras.layers.convolutional.conv2d.Conv2D object at 0x7f45bd7d9ba0>\n",
      "<keras.layers.convolutional.conv2d.Conv2D object at 0x7f45bd7da980>\n",
      "<keras.layers.pooling.max_pooling2d.MaxPooling2D object at 0x7f45bd7d89d0>\n"
     ]
    }
   ],
   "source": [
    "for layer in VGG16_Architecture.layers:\n",
    "    print(layer)\n",
    "    layer.trainable=False"
   ]
  },
  {
   "cell_type": "code",
   "execution_count": 7,
   "id": "1e290c5f",
   "metadata": {},
   "outputs": [],
   "source": [
    "folders = '/home/corey/Documents/ML/train/' \n",
    "num_dirs = len([d for d in os.listdir(folders) if os.path.isdir(os.path.join(folders, d))])\n",
    "\n",
    "# print(f'The number of directories in {folders} is {num_dirs}.')"
   ]
  },
  {
   "cell_type": "code",
   "execution_count": 8,
   "id": "6cbfaea6",
   "metadata": {},
   "outputs": [],
   "source": [
    "x=Flatten()(VGG16_Architecture.output)"
   ]
  },
  {
   "cell_type": "code",
   "execution_count": 9,
   "id": "6bca8727",
   "metadata": {},
   "outputs": [
    {
     "data": {
      "text/plain": [
       "<KerasTensor: shape=(None, 12800) dtype=float32 (created by layer 'flatten')>"
      ]
     },
     "execution_count": 9,
     "metadata": {},
     "output_type": "execute_result"
    }
   ],
   "source": [
    "x"
   ]
  },
  {
   "cell_type": "code",
   "execution_count": 10,
   "id": "ed7d354d",
   "metadata": {},
   "outputs": [],
   "source": [
    "prediction=Dense(num_dirs,activation='softmax')(x)"
   ]
  },
  {
   "cell_type": "code",
   "execution_count": 11,
   "id": "15dd19aa",
   "metadata": {},
   "outputs": [
    {
     "data": {
      "text/plain": [
       "<KerasTensor: shape=(None, 4) dtype=float32 (created by layer 'dense')>"
      ]
     },
     "execution_count": 11,
     "metadata": {},
     "output_type": "execute_result"
    }
   ],
   "source": [
    "prediction"
   ]
  },
  {
   "cell_type": "code",
   "execution_count": 12,
   "id": "d5d7f247",
   "metadata": {},
   "outputs": [],
   "source": [
    "model=Model(inputs=VGG16_Architecture.input,outputs=prediction)"
   ]
  },
  {
   "cell_type": "code",
   "execution_count": 13,
   "id": "19608e76",
   "metadata": {},
   "outputs": [
    {
     "name": "stdout",
     "output_type": "stream",
     "text": [
      "Model: \"model\"\n",
      "_________________________________________________________________\n",
      " Layer (type)                Output Shape              Param #   \n",
      "=================================================================\n",
      " input_1 (InputLayer)        [(None, 180, 180, 3)]     0         \n",
      "                                                                 \n",
      " block1_conv1 (Conv2D)       (None, 180, 180, 64)      1792      \n",
      "                                                                 \n",
      " block1_conv2 (Conv2D)       (None, 180, 180, 64)      36928     \n",
      "                                                                 \n",
      " block1_pool (MaxPooling2D)  (None, 90, 90, 64)        0         \n",
      "                                                                 \n",
      " block2_conv1 (Conv2D)       (None, 90, 90, 128)       73856     \n",
      "                                                                 \n",
      " block2_conv2 (Conv2D)       (None, 90, 90, 128)       147584    \n",
      "                                                                 \n",
      " block2_pool (MaxPooling2D)  (None, 45, 45, 128)       0         \n",
      "                                                                 \n",
      " block3_conv1 (Conv2D)       (None, 45, 45, 256)       295168    \n",
      "                                                                 \n",
      " block3_conv2 (Conv2D)       (None, 45, 45, 256)       590080    \n",
      "                                                                 \n",
      " block3_conv3 (Conv2D)       (None, 45, 45, 256)       590080    \n",
      "                                                                 \n",
      " block3_pool (MaxPooling2D)  (None, 22, 22, 256)       0         \n",
      "                                                                 \n",
      " block4_conv1 (Conv2D)       (None, 22, 22, 512)       1180160   \n",
      "                                                                 \n",
      " block4_conv2 (Conv2D)       (None, 22, 22, 512)       2359808   \n",
      "                                                                 \n",
      " block4_conv3 (Conv2D)       (None, 22, 22, 512)       2359808   \n",
      "                                                                 \n",
      " block4_pool (MaxPooling2D)  (None, 11, 11, 512)       0         \n",
      "                                                                 \n",
      " block5_conv1 (Conv2D)       (None, 11, 11, 512)       2359808   \n",
      "                                                                 \n",
      " block5_conv2 (Conv2D)       (None, 11, 11, 512)       2359808   \n",
      "                                                                 \n",
      " block5_conv3 (Conv2D)       (None, 11, 11, 512)       2359808   \n",
      "                                                                 \n",
      " block5_pool (MaxPooling2D)  (None, 5, 5, 512)         0         \n",
      "                                                                 \n",
      " flatten (Flatten)           (None, 12800)             0         \n",
      "                                                                 \n",
      " dense (Dense)               (None, 4)                 51204     \n",
      "                                                                 \n",
      "=================================================================\n",
      "Total params: 14,765,892\n",
      "Trainable params: 51,204\n",
      "Non-trainable params: 14,714,688\n",
      "_________________________________________________________________\n"
     ]
    }
   ],
   "source": [
    "model.summary()"
   ]
  },
  {
   "cell_type": "code",
   "execution_count": 14,
   "id": "c4b76f36",
   "metadata": {},
   "outputs": [],
   "source": [
    "model.compile(\n",
    "    loss='categorical_crossentropy',\n",
    "    optimizer='Adam',\n",
    "    metrics=['accuracy']\n",
    ")\n"
   ]
  },
  {
   "cell_type": "code",
   "execution_count": 15,
   "id": "a79ae348",
   "metadata": {},
   "outputs": [],
   "source": [
    "# train_data_generator=ImageDataGenerator(rescale=1./255,shear_range=0.2,zoom_range=0.2, data_format='channels_last')\n",
    "train_data_generator=ImageDataGenerator(rescale=1./255,shear_range=0.2,zoom_range=0.2, preprocessing_function=lambda img: tf.image.resize(img, IMAGE_SIZE))\n",
    "test_data_generator=ImageDataGenerator(rescale=1./255, preprocessing_function=lambda img: tf.image.resize(img, IMAGE_SIZE))\n"
   ]
  },
  {
   "cell_type": "code",
   "execution_count": 16,
   "id": "628f508b",
   "metadata": {},
   "outputs": [
    {
     "data": {
      "text/plain": [
       "<keras.preprocessing.image.ImageDataGenerator at 0x7f45bc5f08e0>"
      ]
     },
     "execution_count": 16,
     "metadata": {},
     "output_type": "execute_result"
    }
   ],
   "source": [
    "train_data_generator"
   ]
  },
  {
   "cell_type": "code",
   "execution_count": 17,
   "id": "9de6963b",
   "metadata": {},
   "outputs": [],
   "source": [
    "test_data_generator=ImageDataGenerator(rescale=1./255)"
   ]
  },
  {
   "cell_type": "code",
   "execution_count": 18,
   "id": "cb4a26f9",
   "metadata": {},
   "outputs": [
    {
     "name": "stdout",
     "output_type": "stream",
     "text": [
      "Found 2900 images belonging to 4 classes.\n"
     ]
    }
   ],
   "source": [
    "training_set=train_data_generator.flow_from_directory(training_path,target_size=IMAGE_SIZE,batch_size=32,class_mode='categorical')\n"
   ]
  },
  {
   "cell_type": "code",
   "execution_count": 19,
   "id": "e5b5479d",
   "metadata": {},
   "outputs": [
    {
     "name": "stdout",
     "output_type": "stream",
     "text": [
      "Found 36 images belonging to 4 classes.\n"
     ]
    }
   ],
   "source": [
    "testing_set=test_data_generator.flow_from_directory(testing_path,target_size=IMAGE_SIZE,batch_size=32,class_mode='categorical')"
   ]
  },
  {
   "cell_type": "code",
   "execution_count": 20,
   "id": "1d1bf746",
   "metadata": {},
   "outputs": [
    {
     "data": {
      "text/plain": [
       "array([0, 0, 0, ..., 3, 3, 3], dtype=int32)"
      ]
     },
     "execution_count": 20,
     "metadata": {},
     "output_type": "execute_result"
    }
   ],
   "source": [
    "training_set.labels"
   ]
  },
  {
   "cell_type": "code",
   "execution_count": 21,
   "id": "4756968e",
   "metadata": {},
   "outputs": [
    {
     "data": {
      "text/plain": [
       "91"
      ]
     },
     "execution_count": 21,
     "metadata": {},
     "output_type": "execute_result"
    }
   ],
   "source": [
    "len(training_set)"
   ]
  },
  {
   "cell_type": "code",
   "execution_count": 22,
   "id": "c1103aaf",
   "metadata": {},
   "outputs": [
    {
     "data": {
      "text/plain": [
       "2"
      ]
     },
     "execution_count": 22,
     "metadata": {},
     "output_type": "execute_result"
    }
   ],
   "source": [
    "len(testing_set)"
   ]
  },
  {
   "cell_type": "code",
   "execution_count": 23,
   "id": "17d9eb6e",
   "metadata": {},
   "outputs": [
    {
     "name": "stdout",
     "output_type": "stream",
     "text": [
      "Epoch 1/3\n"
     ]
    },
    {
     "name": "stderr",
     "output_type": "stream",
     "text": [
      "2023-04-04 10:01:24.376515: I tensorflow/core/common_runtime/executor.cc:1197] [/device:CPU:0] (DEBUG INFO) Executor start aborting (this does not indicate an error and you can ignore this message): INVALID_ARGUMENT: You must feed a value for placeholder tensor 'Placeholder/_0' with dtype int32\n",
      "\t [[{{node Placeholder/_0}}]]\n"
     ]
    },
    {
     "name": "stdout",
     "output_type": "stream",
     "text": [
      "91/91 [==============================] - ETA: 0s - loss: 0.3974 - accuracy: 0.8041"
     ]
    },
    {
     "name": "stderr",
     "output_type": "stream",
     "text": [
      "2023-04-04 10:12:02.192525: I tensorflow/core/common_runtime/executor.cc:1197] [/device:CPU:0] (DEBUG INFO) Executor start aborting (this does not indicate an error and you can ignore this message): INVALID_ARGUMENT: You must feed a value for placeholder tensor 'Placeholder/_0' with dtype int32\n",
      "\t [[{{node Placeholder/_0}}]]\n"
     ]
    },
    {
     "name": "stdout",
     "output_type": "stream",
     "text": [
      "91/91 [==============================] - 647s 7s/step - loss: 0.3974 - accuracy: 0.8041 - val_loss: 2.7080 - val_accuracy: 0.2500\n",
      "Epoch 2/3\n",
      "91/91 [==============================] - 598s 7s/step - loss: 0.1844 - accuracy: 0.9259 - val_loss: 2.8347 - val_accuracy: 0.2500\n",
      "Epoch 3/3\n",
      "91/91 [==============================] - 602s 7s/step - loss: 0.1398 - accuracy: 0.9514 - val_loss: 3.0533 - val_accuracy: 0.2500\n"
     ]
    },
    {
     "data": {
      "text/plain": [
       "<keras.callbacks.History at 0x7f45bc662bf0>"
      ]
     },
     "execution_count": 23,
     "metadata": {},
     "output_type": "execute_result"
    }
   ],
   "source": [
    "model.fit(\n",
    "    training_set,\n",
    "    validation_data=testing_set,\n",
    "    epochs=3,\n",
    "    steps_per_epoch=len(training_set),\n",
    "    validation_steps=len(testing_set)\n",
    ")"
   ]
  },
  {
   "cell_type": "code",
   "execution_count": 24,
   "id": "d0e1efc5",
   "metadata": {},
   "outputs": [],
   "source": [
    "model.save(\"./Models/Predefine_Architecture_VGG16_Model.h5\")"
   ]
  },
  {
   "cell_type": "code",
   "execution_count": 35,
   "id": "cf132e2c",
   "metadata": {},
   "outputs": [],
   "source": [
    "VGG16_model=load_model(\"./Models/Predefine_Architecture_VGG16_Model.h5\")"
   ]
  },
  {
   "cell_type": "code",
   "execution_count": 41,
   "id": "9c1efb8d",
   "metadata": {},
   "outputs": [
    {
     "name": "stderr",
     "output_type": "stream",
     "text": [
      "2023-04-04 14:10:38.939480: I tensorflow/core/common_runtime/executor.cc:1197] [/device:CPU:0] (DEBUG INFO) Executor start aborting (this does not indicate an error and you can ignore this message): INVALID_ARGUMENT: You must feed a value for placeholder tensor 'Placeholder/_0' with dtype int32\n",
      "\t [[{{node Placeholder/_0}}]]\n"
     ]
    },
    {
     "name": "stdout",
     "output_type": "stream",
     "text": [
      "2/2 [==============================] - 78s 9s/step\n"
     ]
    }
   ],
   "source": [
    "test_prediction=model.predict(testing_set)"
   ]
  },
  {
   "cell_type": "code",
   "execution_count": 37,
   "id": "062126e8",
   "metadata": {},
   "outputs": [
    {
     "data": {
      "text/plain": [
       "array([[1.5013079e-01, 2.1925047e-03, 6.3228738e-01, 2.1538925e-01],\n",
       "       [9.6180725e-01, 1.3987541e-02, 2.0573014e-02, 3.6322169e-03],\n",
       "       [3.4497413e-01, 6.3848740e-01, 1.3435554e-02, 3.1029154e-03],\n",
       "       [5.0506000e-03, 4.2609358e-04, 9.7031516e-01, 2.4208110e-02],\n",
       "       [5.0506000e-03, 4.2609358e-04, 9.7031516e-01, 2.4208110e-02],\n",
       "       [8.9489704e-01, 1.9485872e-02, 7.7781744e-02, 7.8354832e-03],\n",
       "       [4.2537740e-03, 9.2484868e-01, 2.0075727e-02, 5.0821729e-02],\n",
       "       [9.6180725e-01, 1.3987541e-02, 2.0573014e-02, 3.6322169e-03],\n",
       "       [1.5013079e-01, 2.1925047e-03, 6.3228738e-01, 2.1538925e-01],\n",
       "       [9.3246496e-01, 1.4647127e-03, 6.5306872e-02, 7.6348259e-04],\n",
       "       [3.2424036e-02, 8.9521629e-01, 6.6907816e-02, 5.4518445e-03],\n",
       "       [5.0506000e-03, 4.2609358e-04, 9.7031516e-01, 2.4208110e-02],\n",
       "       [9.3246496e-01, 1.4647127e-03, 6.5306872e-02, 7.6348259e-04],\n",
       "       [9.6180725e-01, 1.3987541e-02, 2.0573014e-02, 3.6322169e-03],\n",
       "       [3.4497413e-01, 6.3848740e-01, 1.3435554e-02, 3.1029154e-03],\n",
       "       [4.2537740e-03, 9.2484868e-01, 2.0075727e-02, 5.0821729e-02],\n",
       "       [3.2424036e-02, 8.9521629e-01, 6.6907816e-02, 5.4518445e-03],\n",
       "       [1.1248031e-01, 3.2436484e-01, 3.1859627e-01, 2.4455854e-01],\n",
       "       [4.2537740e-03, 9.2484868e-01, 2.0075727e-02, 5.0821729e-02],\n",
       "       [3.2424036e-02, 8.9521629e-01, 6.6907816e-02, 5.4518445e-03],\n",
       "       [3.2424036e-02, 8.9521629e-01, 6.6907816e-02, 5.4518445e-03],\n",
       "       [1.1248031e-01, 3.2436484e-01, 3.1859627e-01, 2.4455854e-01],\n",
       "       [3.4497413e-01, 6.3848740e-01, 1.3435554e-02, 3.1029154e-03],\n",
       "       [4.2537740e-03, 9.2484868e-01, 2.0075727e-02, 5.0821729e-02],\n",
       "       [8.9489704e-01, 1.9485872e-02, 7.7781744e-02, 7.8354832e-03],\n",
       "       [1.5013079e-01, 2.1925047e-03, 6.3228738e-01, 2.1538925e-01],\n",
       "       [8.9489704e-01, 1.9485872e-02, 7.7781744e-02, 7.8354832e-03],\n",
       "       [9.3246496e-01, 1.4647127e-03, 6.5306872e-02, 7.6348259e-04],\n",
       "       [1.1248031e-01, 3.2436484e-01, 3.1859627e-01, 2.4455854e-01],\n",
       "       [8.9489704e-01, 1.9485872e-02, 7.7781744e-02, 7.8354832e-03],\n",
       "       [5.0506000e-03, 4.2609358e-04, 9.7031516e-01, 2.4208110e-02],\n",
       "       [9.6180725e-01, 1.3987548e-02, 2.0573024e-02, 3.6322169e-03],\n",
       "       [1.1248031e-01, 3.2436478e-01, 3.1859636e-01, 2.4455854e-01],\n",
       "       [3.4497401e-01, 6.3848740e-01, 1.3435548e-02, 3.1029140e-03],\n",
       "       [1.5013079e-01, 2.1925038e-03, 6.3228744e-01, 2.1538934e-01],\n",
       "       [9.3246502e-01, 1.4647121e-03, 6.5306857e-02, 7.6348160e-04]],\n",
       "      dtype=float32)"
      ]
     },
     "execution_count": 37,
     "metadata": {},
     "output_type": "execute_result"
    }
   ],
   "source": [
    "test_prediction"
   ]
  },
  {
   "cell_type": "code",
   "execution_count": 28,
   "id": "131f4eea",
   "metadata": {},
   "outputs": [],
   "source": [
    "predicted_values=[numpy.argmax(result) for result in test_prediction]"
   ]
  },
  {
   "cell_type": "code",
   "execution_count": 29,
   "id": "32d79003",
   "metadata": {},
   "outputs": [
    {
     "name": "stdout",
     "output_type": "stream",
     "text": [
      "1  - >  0\n",
      "2  - >  0\n",
      "0  - >  0\n",
      "1  - >  0\n",
      "0  - >  0\n",
      "0  - >  0\n",
      "0  - >  0\n",
      "2  - >  0\n",
      "1  - >  0\n",
      "2  - >  1\n",
      "2  - >  1\n",
      "1  - >  1\n",
      "0  - >  1\n",
      "1  - >  1\n",
      "1  - >  1\n",
      "2  - >  1\n",
      "1  - >  1\n",
      "0  - >  1\n",
      "1  - >  2\n",
      "2  - >  2\n",
      "1  - >  2\n",
      "0  - >  2\n",
      "1  - >  2\n",
      "1  - >  2\n",
      "0  - >  2\n",
      "1  - >  2\n",
      "2  - >  2\n",
      "2  - >  3\n",
      "0  - >  3\n",
      "1  - >  3\n",
      "1  - >  3\n",
      "0  - >  3\n",
      "1  - >  3\n",
      "1  - >  3\n",
      "0  - >  3\n",
      "0  - >  3\n"
     ]
    }
   ],
   "source": [
    "for i in range(len(predicted_values)):\n",
    "    print(predicted_values[i],\" - > \",testing_set.labels[i])"
   ]
  },
  {
   "cell_type": "code",
   "execution_count": 30,
   "id": "e87735b2",
   "metadata": {},
   "outputs": [],
   "source": [
    "confusion_matrix_data=confusion_matrix(predicted_values,testing_set.labels)"
   ]
  },
  {
   "cell_type": "code",
   "execution_count": 31,
   "id": "32af25d1",
   "metadata": {},
   "outputs": [
    {
     "data": {
      "text/plain": [
       "array([[4, 2, 2, 4],\n",
       "       [3, 4, 5, 4],\n",
       "       [2, 3, 2, 1],\n",
       "       [0, 0, 0, 0]])"
      ]
     },
     "execution_count": 31,
     "metadata": {},
     "output_type": "execute_result"
    }
   ],
   "source": [
    "confusion_matrix_data"
   ]
  },
  {
   "cell_type": "code",
   "execution_count": 32,
   "id": "ad4fbf2d",
   "metadata": {},
   "outputs": [
    {
     "data": {
      "text/plain": [
       "<AxesSubplot:>"
      ]
     },
     "execution_count": 32,
     "metadata": {},
     "output_type": "execute_result"
    },
    {
     "data": {
      "image/png": "[encoded data removed]",
      "text/plain": [
       "<Figure size 640x480 with 2 Axes>"
      ]
     },
     "metadata": {},
     "output_type": "display_data"
    }
   ],
   "source": [
    "pyplot.figure('Confusion Matrix')\n",
    "seaborn.heatmap(confusion_matrix_data,annot=True,xticklabels=classes_list,yticklabels=classes_list)\n",
    "# seaborn.heatmap(confusion_matrix_data,annot=True)"
   ]
  },
  {
   "cell_type": "code",
   "execution_count": 33,
   "id": "7c1ce006",
   "metadata": {},
   "outputs": [
    {
     "name": "stderr",
     "output_type": "stream",
     "text": [
      "/home/corey/.local/lib/python3.10/site-packages/sklearn/metrics/_classification.py:1344: UndefinedMetricWarning: Recall and F-score are ill-defined and being set to 0.0 in labels with no true samples. Use `zero_division` parameter to control this behavior.\n",
      "  _warn_prf(average, modifier, msg_start, len(result))\n",
      "/home/corey/.local/lib/python3.10/site-packages/sklearn/metrics/_classification.py:1344: UndefinedMetricWarning: Recall and F-score are ill-defined and being set to 0.0 in labels with no true samples. Use `zero_division` parameter to control this behavior.\n",
      "  _warn_prf(average, modifier, msg_start, len(result))\n",
      "/home/corey/.local/lib/python3.10/site-packages/sklearn/metrics/_classification.py:1344: UndefinedMetricWarning: Recall and F-score are ill-defined and being set to 0.0 in labels with no true samples. Use `zero_division` parameter to control this behavior.\n",
      "  _warn_prf(average, modifier, msg_start, len(result))\n"
     ]
    }
   ],
   "source": [
    "classification_report_data=classification_report(predicted_values,testing_set.labels,target_names=classes_list)"
   ]
  },
  {
   "cell_type": "code",
   "execution_count": 34,
   "id": "664c7755",
   "metadata": {},
   "outputs": [
    {
     "name": "stdout",
     "output_type": "stream",
     "text": [
      "              precision    recall  f1-score   support\n",
      "\n",
      "      closed       0.44      0.33      0.38        12\n",
      "     no_yawn       0.44      0.25      0.32        16\n",
      "        open       0.22      0.25      0.24         8\n",
      "        yawn       0.00      0.00      0.00         0\n",
      "\n",
      "    accuracy                           0.28        36\n",
      "   macro avg       0.28      0.21      0.23        36\n",
      "weighted avg       0.40      0.28      0.32        36\n",
      "\n"
     ]
    }
   ],
   "source": [
    "print(classification_report_data)"
   ]
  },
  {
   "cell_type": "code",
   "execution_count": null,
   "id": "3b3d2e21",
   "metadata": {},
   "outputs": [],
   "source": []
  }
 ],
 "metadata": {
  "kernelspec": {
   "display_name": "Python 3 (ipykernel)",
   "language": "python",
   "name": "python3"
  },
  "language_info": {
   "codemirror_mode": {
    "name": "ipython",
    "version": 3
   },
   "file_extension": ".py",
   "mimetype": "text/x-python",
   "name": "python",
   "nbconvert_exporter": "python",
   "pygments_lexer": "ipython3",
   "version": "3.10.6"
  }
 },
 "nbformat": 4,
 "nbformat_minor": 5
}
